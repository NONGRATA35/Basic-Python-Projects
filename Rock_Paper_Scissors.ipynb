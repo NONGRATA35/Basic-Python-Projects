{
 "cells": [
  {
   "cell_type": "code",
   "execution_count": 4,
   "id": "3208b91c-1841-4df0-96e3-a5d348b4960a",
   "metadata": {},
   "outputs": [
    {
     "name": "stdout",
     "output_type": "stream",
     "text": [
      "1- ROCK\n",
      "2- PAPER\n",
      "3- SCISSORS\n"
     ]
    },
    {
     "name": "stdin",
     "output_type": "stream",
     "text": [
      " 1\n"
     ]
    },
    {
     "name": "stdout",
     "output_type": "stream",
     "text": [
      "DRAW\n"
     ]
    },
    {
     "name": "stdin",
     "output_type": "stream",
     "text": [
      " 1\n"
     ]
    },
    {
     "name": "stdout",
     "output_type": "stream",
     "text": [
      "User:ROCK\n",
      "Computer:SCISSORS\n"
     ]
    },
    {
     "name": "stdin",
     "output_type": "stream",
     "text": [
      " 1\n"
     ]
    },
    {
     "name": "stdout",
     "output_type": "stream",
     "text": [
      "User:ROCK\n",
      "Computer:PAPER\n"
     ]
    },
    {
     "name": "stdin",
     "output_type": "stream",
     "text": [
      " 1\n"
     ]
    },
    {
     "name": "stdout",
     "output_type": "stream",
     "text": [
      "User:ROCK\n",
      "Computer:PAPER\n",
      "\n",
      "User:1\n",
      "Computer:2\n",
      "KAYBETTİNİZ\n"
     ]
    }
   ],
   "source": [
    "#10 Rock-Paper-Scissors Game\n",
    "\n",
    "import random\n",
    "\n",
    "liste = [\"ROCK\" , \"PAPER\" , \"SCISSORS\"]\n",
    "secenekler = (1,2,3)\n",
    "print(\"1- ROCK\\n2- PAPER\\n3- SCISSORS\")\n",
    "\n",
    "computer = 0\n",
    "user = 0\n",
    "\n",
    "\n",
    "while user < 2 and computer < 2 :\n",
    "    secim = int(input())\n",
    "    pc = (random.choice(secenekler))\n",
    "    if secim == pc :\n",
    "        print(\"DRAW\")\n",
    "        continue\n",
    "    if secim == 1 :\n",
    "        print(f\"User:{liste[0]}\")\n",
    "        if pc == 2 :\n",
    "            print(f\"Computer:{liste[1]}\")\n",
    "            computer += 1\n",
    "        elif pc == 3 :\n",
    "            print(f\"Computer:{liste[2]}\")\n",
    "            user += 1\n",
    "\n",
    "    elif secim == 2:\n",
    "        print(f\"User:{liste[1]}\")\n",
    "        if pc == 1 :\n",
    "            print(f\"Computer:{liste[0]}\")\n",
    "            user +=1\n",
    "\n",
    "        elif pc == 3 :\n",
    "            print(f\"Computer:{liste[2]}\")\n",
    "            computer += 1\n",
    "\n",
    "    elif secim == 3 :\n",
    "        print(f\"User:{liste[2]}\")\n",
    "        if pc == 1 :\n",
    "            print(f\"Computer:{liste[0]}\")\n",
    "            computer +=1\n",
    "\n",
    "        elif pc == 2 :\n",
    "            print(f\"Computer:{liste[1]}\")\n",
    "            user += 1\n",
    "print()\n",
    "print(f\"User:{user}\\nComputer:{computer}\")\n",
    "\n",
    "if user > computer :\n",
    "    print(\"KAZANDINIZ\")\n",
    "else:\n",
    "    print(\"KAYBETTİNİZ\")\n",
    "        "
   ]
  },
  {
   "cell_type": "code",
   "execution_count": null,
   "id": "a28207d2-449b-4636-809e-a37a8fad9db6",
   "metadata": {},
   "outputs": [],
   "source": []
  }
 ],
 "metadata": {
  "kernelspec": {
   "display_name": "Python 3 (ipykernel)",
   "language": "python",
   "name": "python3"
  },
  "language_info": {
   "codemirror_mode": {
    "name": "ipython",
    "version": 3
   },
   "file_extension": ".py",
   "mimetype": "text/x-python",
   "name": "python",
   "nbconvert_exporter": "python",
   "pygments_lexer": "ipython3",
   "version": "3.12.4"
  }
 },
 "nbformat": 4,
 "nbformat_minor": 5
}
