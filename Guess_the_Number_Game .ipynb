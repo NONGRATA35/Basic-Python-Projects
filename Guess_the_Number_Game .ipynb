{
 "cells": [
  {
   "cell_type": "code",
   "execution_count": 2,
   "id": "d6640b07-2d2d-4ce9-9242-07394dae65c4",
   "metadata": {},
   "outputs": [
    {
     "name": "stdin",
     "output_type": "stream",
     "text": [
      "1. oyuncu sayıyı belirlesin: 23\n"
     ]
    },
    {
     "name": "stdout",
     "output_type": "stream",
     "text": [
      "1 . deneme\n"
     ]
    },
    {
     "name": "stdin",
     "output_type": "stream",
     "text": [
      "2. oyuncu tahminini girsin 22\n"
     ]
    },
    {
     "name": "stdout",
     "output_type": "stream",
     "text": [
      "Lütfen daha Yüksek bir sayı giriniz.\n",
      "2 . deneme\n"
     ]
    },
    {
     "name": "stdin",
     "output_type": "stream",
     "text": [
      "2. oyuncu tahminini girsin 34\n"
     ]
    },
    {
     "name": "stdout",
     "output_type": "stream",
     "text": [
      "Lütfen daha Düşük bir sayı giriniz.\n",
      "3 . deneme\n"
     ]
    },
    {
     "name": "stdin",
     "output_type": "stream",
     "text": [
      "2. oyuncu tahminini girsin 23\n"
     ]
    },
    {
     "name": "stdout",
     "output_type": "stream",
     "text": [
      "2. OYUNCU KAZANDI!\n",
      "TEKRAR OYNAS!\n"
     ]
    }
   ],
   "source": [
    "#REV00 - RUN\n",
    "\n",
    "gamer1 = int(input(\"1. oyuncu sayıyı belirlesin:\"))\n",
    "x = 1\n",
    "timer = 1\n",
    "\n",
    "\n",
    "\n",
    "while timer <= 7 :\n",
    "\n",
    "        \n",
    "        print(timer ,\". deneme\")\n",
    "        gamer2 = int(input(\"2. oyuncu tahminini girsin\"))\n",
    "        \n",
    "        if gamer1 > gamer2 :\n",
    "            ans = (\"Yüksek\")\n",
    "            if timer < 7 :\n",
    "                print(\"Lütfen daha\" , ans , \"bir sayı giriniz.\")\n",
    "               \n",
    "        \n",
    "        elif gamer1 < gamer2 :\n",
    "            ans = (\"Düşük\")\n",
    "            if timer < 7 :\n",
    "                print(\"Lütfen daha\" , ans , \"bir sayı giriniz.\")\n",
    "        else :\n",
    "            break\n",
    "        timer += 1\n",
    "\n",
    "if timer >= 7: \n",
    "    print(\"1. OYUNCU KAZANDI!\")\n",
    "    print(\"TEKRAR OYNAS!\")\n",
    "    \n",
    "elif timer < 7:\n",
    "    \n",
    "    print(\"2. OYUNCU KAZANDI!\")\n",
    "    print(\"TEKRAR OYNAS!\")\n",
    "    \n",
    "\n"
   ]
  },
  {
   "cell_type": "code",
   "execution_count": 32,
   "id": "987a6a0c-9fcf-4bea-868e-5b10f89df184",
   "metadata": {},
   "outputs": [
    {
     "name": "stdin",
     "output_type": "stream",
     "text": [
      "1. oyuncu sayıyı belirlesin: 5\n"
     ]
    },
    {
     "name": "stdout",
     "output_type": "stream",
     "text": [
      "1 . deneme\n"
     ]
    },
    {
     "name": "stdin",
     "output_type": "stream",
     "text": [
      "2. oyuncu tahminini girsin 5\n"
     ]
    },
    {
     "name": "stdout",
     "output_type": "stream",
     "text": [
      "Lütfen daha Düşük bir sayı giriniz.\n",
      "2 . deneme\n"
     ]
    },
    {
     "name": "stdin",
     "output_type": "stream",
     "text": [
      "2. oyuncu tahminini girsin 5\n"
     ]
    },
    {
     "name": "stdout",
     "output_type": "stream",
     "text": [
      "Lütfen daha Düşük bir sayı giriniz.\n",
      "3 . deneme\n"
     ]
    },
    {
     "name": "stdin",
     "output_type": "stream",
     "text": [
      "2. oyuncu tahminini girsin 5\n"
     ]
    },
    {
     "name": "stdout",
     "output_type": "stream",
     "text": [
      "Lütfen daha Düşük bir sayı giriniz.\n",
      "4 . deneme\n"
     ]
    },
    {
     "name": "stdin",
     "output_type": "stream",
     "text": [
      "2. oyuncu tahminini girsin 5\n"
     ]
    },
    {
     "name": "stdout",
     "output_type": "stream",
     "text": [
      "Lütfen daha Düşük bir sayı giriniz.\n",
      "5 . deneme\n"
     ]
    },
    {
     "name": "stdin",
     "output_type": "stream",
     "text": [
      "2. oyuncu tahminini girsin 5\n"
     ]
    },
    {
     "name": "stdout",
     "output_type": "stream",
     "text": [
      "Lütfen daha Düşük bir sayı giriniz.\n",
      "6 . deneme\n"
     ]
    },
    {
     "name": "stdin",
     "output_type": "stream",
     "text": [
      "2. oyuncu tahminini girsin 5\n"
     ]
    },
    {
     "name": "stdout",
     "output_type": "stream",
     "text": [
      "Lütfen daha Düşük bir sayı giriniz.\n",
      "7 . deneme\n"
     ]
    },
    {
     "name": "stdin",
     "output_type": "stream",
     "text": [
      "2. oyuncu tahminini girsin 5\n"
     ]
    },
    {
     "name": "stdout",
     "output_type": "stream",
     "text": [
      "Lütfen daha Düşük bir sayı giriniz.\n",
      "1. OYUNCU KAZANDI!\n",
      "TEKRAR OYNAS!\n"
     ]
    }
   ],
   "source": [
    "#REV01 - NOK\n",
    "\n",
    "gamer1 = int(input(\"1. oyuncu sayıyı belirlesin:\"))\n",
    "x = 1\n",
    "timer = 1\n",
    "\n",
    "# if timer < 8 :\n",
    "\n",
    "while timer <= 7 :\n",
    "\n",
    "        \n",
    "        print(timer ,\". deneme\")\n",
    "        gamer2 = int(input(\"2. oyuncu tahminini girsin\"))\n",
    "        \n",
    "        if timer < 8:\n",
    "            if gamer1 > gamer2 :\n",
    "                ans = (\"Yüksek\")\n",
    "            \n",
    "                \n",
    "              \n",
    "            elif gamer1 < gamer2 :\n",
    "                ans = (\"Düşük\")\n",
    "           \n",
    "            print(\"Lütfen daha\" , ans , \"bir sayı giriniz.\")\n",
    "        \n",
    "            \n",
    "\n",
    "        else :\n",
    "            break\n",
    "        timer += 1\n",
    "\n",
    "if timer >= 7: \n",
    "\n",
    "    print(\"1. OYUNCU KAZANDI!\")\n",
    "    print(\"TEKRAR OYNAS!\")\n",
    "    \n",
    "\n",
    "elif timer:\n",
    "    \n",
    "    print(\"2. OYUNCU KAZANDI!\")\n",
    "    print(\"TEKRAR OYNAS!\")\n",
    "    "
   ]
  },
  {
   "cell_type": "code",
   "execution_count": null,
   "id": "82aeba32-5a7d-415d-9c02-abaead2d7b73",
   "metadata": {},
   "outputs": [],
   "source": []
  }
 ],
 "metadata": {
  "kernelspec": {
   "display_name": "Python 3 (ipykernel)",
   "language": "python",
   "name": "python3"
  },
  "language_info": {
   "codemirror_mode": {
    "name": "ipython",
    "version": 3
   },
   "file_extension": ".py",
   "mimetype": "text/x-python",
   "name": "python",
   "nbconvert_exporter": "python",
   "pygments_lexer": "ipython3",
   "version": "3.12.4"
  }
 },
 "nbformat": 4,
 "nbformat_minor": 5
}
