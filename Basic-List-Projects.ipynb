{
 "cells": [
  {
   "cell_type": "code",
   "execution_count": 10,
   "id": "9d58326f-4d1d-439e-9527-2b0a1555091b",
   "metadata": {},
   "outputs": [
    {
     "name": "stdout",
     "output_type": "stream",
     "text": [
      "1:\tNOT EKLE\n",
      "2:\tNOT LİSTESİ\n",
      "3:\tNOT SİL\n",
      "4:\tNOTLARI TEMİZLE\n",
      "5:\tÇIKIŞ\n",
      "\n"
     ]
    },
    {
     "name": "stdin",
     "output_type": "stream",
     "text": [
      "İşlem: 1\n",
      "Notunuzu giriniz: sefa do do\n"
     ]
    },
    {
     "name": "stdout",
     "output_type": "stream",
     "text": [
      "Not eklenmiştir\n",
      "\n"
     ]
    },
    {
     "name": "stdin",
     "output_type": "stream",
     "text": [
      "İşlem: 1\n",
      "Notunuzu giriniz: oldu sanırım\n"
     ]
    },
    {
     "name": "stdout",
     "output_type": "stream",
     "text": [
      "Not eklenmiştir\n",
      "\n"
     ]
    },
    {
     "name": "stdin",
     "output_type": "stream",
     "text": [
      "İşlem: 1\n",
      "Notunuzu giriniz: oluyor mu\n"
     ]
    },
    {
     "name": "stdout",
     "output_type": "stream",
     "text": [
      "Not eklenmiştir\n",
      "\n"
     ]
    },
    {
     "name": "stdin",
     "output_type": "stream",
     "text": [
      "İşlem: 2\n"
     ]
    },
    {
     "name": "stdout",
     "output_type": "stream",
     "text": [
      "1-\tsefa do do\n",
      "2-\toldu sanırım\n",
      "3-\toluyor mu\n",
      "\n"
     ]
    },
    {
     "name": "stdin",
     "output_type": "stream",
     "text": [
      "İşlem: 3\n",
      "Silinecek not numarası: 3\n"
     ]
    },
    {
     "name": "stdout",
     "output_type": "stream",
     "text": [
      "\n"
     ]
    },
    {
     "name": "stdin",
     "output_type": "stream",
     "text": [
      "İşlem: 2\n"
     ]
    },
    {
     "name": "stdout",
     "output_type": "stream",
     "text": [
      "1-\tsefa do do\n",
      "2-\toldu sanırım\n",
      "\n"
     ]
    },
    {
     "name": "stdin",
     "output_type": "stream",
     "text": [
      "İşlem: 4\n"
     ]
    },
    {
     "name": "stdout",
     "output_type": "stream",
     "text": [
      "TÜM NOTLAR SİLİNMİŞTİR.\n",
      "\n"
     ]
    },
    {
     "name": "stdin",
     "output_type": "stream",
     "text": [
      "İşlem: 2\n"
     ]
    },
    {
     "name": "stdout",
     "output_type": "stream",
     "text": [
      "Liste Boş.\n",
      "\n"
     ]
    },
    {
     "name": "stdin",
     "output_type": "stream",
     "text": [
      "İşlem: 5\n"
     ]
    }
   ],
   "source": [
    "#1_ Basic Note Pad\n",
    "\n",
    "def not_ekle(liste,nots) : \n",
    "    print(\"Not eklenmiştir\")\n",
    "    return liste.append(nots)\n",
    "    \n",
    "\n",
    "\n",
    "def not_gor(liste) : \n",
    "    for i in range(len(liste)) : \n",
    "        print(f\"{i+1}-\\t{liste[i]}\")\n",
    "\n",
    "def not_sil(liste,x) : \n",
    "    while True : \n",
    "        if x >= len(liste) :   # Daha sağlıklı bir sorgulama yapılabilir\n",
    "            print(\"Girdğiniz numaralı not bulunamamıştır.\")\n",
    "            continue\n",
    "\n",
    "        else :\n",
    "            return liste.pop(x)\n",
    "            print(\"NOT SİLİNMİŞTİR\")\n",
    "            break\n",
    "\n",
    "def liste_sifirla(liste) :\n",
    "    return liste.clear()\n",
    "\n",
    "def menu_list(menu) : \n",
    "    for i in range(len(menu)) : \n",
    "        print(f\"{i+1}:\\t{menu[i]}\")\n",
    "\n",
    "##### ANA PROGRAM #####\n",
    "\n",
    "notlar = []\n",
    "menu = [\"NOT EKLE\", \"NOT LİSTESİ\", \"NOT SİL\" , \"NOTLARI TEMİZLE\" , \"ÇIKIŞ\"]\n",
    "\n",
    "menu_list(menu)\n",
    "print()\n",
    "\n",
    "while True :\n",
    "    secim = input(\"İşlem:\")\n",
    "    \n",
    "    if secim == \"5\" :\n",
    "        break\n",
    "    elif secim == \"1\" : \n",
    "        nots = input(\"Notunuzu giriniz:\")\n",
    "        not_ekle(notlar,nots) \n",
    "        \n",
    "    elif secim == \"2\" : \n",
    "        \n",
    "        not_gor(notlar)\n",
    "        if len(notlar) == 0 :\n",
    "            print(\"Liste Boş.\")\n",
    "\n",
    "    elif secim == \"3\" : \n",
    "        x = int(input(\"Silinecek not numarası:\")) \n",
    "        not_sil(notlar,x-1)\n",
    "    elif secim == \"4\" : \n",
    "        \n",
    "        liste_sifirla(notlar)\n",
    "        print(\"TÜM NOTLAR SİLİNMİŞTİR.\")\n",
    "        \n",
    "    print()"
   ]
  },
  {
   "cell_type": "code",
   "execution_count": null,
   "id": "a88f70dd-eb66-4b2c-837f-a510f21cd046",
   "metadata": {},
   "outputs": [],
   "source": [
    "#2_ Basic To-Do List\n",
    "\n",
    "def gorev_ekle(liste,gorev) :\n",
    "    \n",
    "    return liste.append(gorev)\n",
    "\n",
    "def gorev_gor(liste) : \n",
    "    print(\"\\nYAPILACAKLAT LİSTESİ\\n\")\n",
    "    for i in range(len(liste)) : \n",
    "        print(f\"{i+1}-\\t{liste[i]}\")\n",
    "\n",
    "def gorev_ok(liste,a) : \n",
    "    \n",
    "    liste[a-1] = liste[a-1] + \"\\tTAMAMLANDI\"\n",
    "    return gorev_gor(liste)\n",
    "\n",
    "def gorev_sil(liste) : \n",
    "    print(f\"{sil} numaralı görev silinmiştir\")\n",
    "    return liste.pop(sil-1)\n",
    "    \n",
    "\n",
    "#def gorev_degistir(a) : \n",
    "    \n",
    " #   return liste[a-1] = input(\"Yeni görev:\")\n",
    "\n",
    "###   ANA PROGRAM ###\n",
    "\n",
    "gorevler = []\n",
    "print(\"1- GÖREV EKLE\\n2- GÖREVLER\\n3- TAMAMLANAN GÖREV\\n4- GÖREV SİL\\n5- ÇIKIŞ\\n\")\n",
    "\n",
    "while True : \n",
    "    secim = input(\"İŞLEM SEÇ:\")\n",
    "    if secim == \"5\" : \n",
    "        break\n",
    "    elif secim == \"1\" : \n",
    "        gorev = input(\"Yapılacak:\")\n",
    "        gorev_ekle(gorevler, gorev)\n",
    "        print(\"Görev eklendi.\\n\")\n",
    "    elif secim == \"2\" : \n",
    "        gorev_gor(gorevler)\n",
    "        print()\n",
    "\n",
    "    elif secim == \"3\" : \n",
    "        a = int(input(\"Tamamlanan görev:\"))\n",
    "        gorev_ok(gorevler,a)\n",
    "\n",
    "    elif secim == \"4\" : \n",
    "        sil = int(input(\"Silinecek görev no:\"))\n",
    "        gorev_sil(gorevler)"
   ]
  },
  {
   "cell_type": "code",
   "execution_count": null,
   "id": "97952922-1f34-41cc-8944-85d78ddcb0bb",
   "metadata": {},
   "outputs": [],
   "source": [
    "#3_ Alışveriş Listesi\n",
    "\n",
    "def urun_ekle(urun,fiyat) : \n",
    "    uruns.append(urun)\n",
    "    fiyats.append(fiyat)\n",
    "   \n",
    "def aliveris_liste(uruns,fiyats) : \n",
    "    for i in range(len(uruns)) : \n",
    "        print(f\"{i+1}-\\t{uruns[i]}\\t{fiyats[i]} TL\")\n",
    "    print(f\"TOPLAM: {sum(fiyats)} TL\")\n",
    "\n",
    "def butce_durumu(butce,fiyats) : \n",
    "    toplam = sum(fiyats)\n",
    "    if butce <= toplam : \n",
    "        print(f\"Bütçeniz {toplam-butce}TL eksiktir\")\n",
    "\n",
    "    else :\n",
    "        print(f\"Bütceniz yeterlidir. Kalan para:{butce-toplam}TL\")\n",
    "\n",
    "def urun_sil(uruns,fiyats) : \n",
    "    s = int(input(\"Listeden çıkarmak istediğiniz kalem:\"))\n",
    "    uruns.pop(s-1)\n",
    "    fiyats.pop(s-1)\n",
    "    print(\"Ürün çıkarıldı.\")\n",
    "\n",
    "\n",
    "\n",
    "###   ANA PROGRAM   ###\n",
    "    \n",
    "menu = [\"ÜRÜN EKLE\", \"ALIŞVERİŞ LİSTESİ\" , \"BÜTÇR DURUMU\" , \"ÜRÜN SİL\" , \"ÇIKIŞ\"]\n",
    "butce = int(input(\"Bütçenizi giriniz:\"))\n",
    "\n",
    "for i in range(len(menu)) : \n",
    "    print(f\"{i+1}-\\t{menu[i]}\")\n",
    "\n",
    "print()\n",
    "uruns = []\n",
    "fiyats = []\n",
    "\n",
    "while True : \n",
    "    secim = input(\"İşlem:\")\n",
    "    if secim == \"5\" : \n",
    "        break\n",
    "\n",
    "    elif secim ==\"1\" : \n",
    "        urun = input(\"ÜRÜN:\")\n",
    "        fiyat = float(input(\"FİYAT:\"))\n",
    "        urun_ekle(urun,fiyat)\n",
    "\n",
    "    elif secim == \"2\" : \n",
    "        aliveris_liste(uruns,fiyats)\n",
    "    elif secim == \"3\" :\n",
    "        butce_durumu(butce,fiyats)\n",
    "    elif secim == \"4\" : \n",
    "        \n",
    "        urun_sil(uruns,fiyats)\n",
    "\n",
    "    print()\n",
    "        "
   ]
  },
  {
   "cell_type": "code",
   "execution_count": null,
   "id": "d438cb05-3cd9-404f-ac1f-f3c4db396749",
   "metadata": {},
   "outputs": [],
   "source": [
    "#4_ BASİT HESAP MAKİNESİ\n",
    "\n",
    "def toplama(a,b) : \n",
    "    return(a+b)\n",
    "\n",
    "def cikarma(a,b) : \n",
    "    return a-b\n",
    "\n",
    "def carpma(a,b) : \n",
    "    return a*b\n",
    "\n",
    "def bolme(a,b) : \n",
    "    if b == 0 : \n",
    "        print(\"Bölen sayı 0 olamaz\")\n",
    "\n",
    "    else : \n",
    "        print(f\"SONUÇ: {a/b}\")\n",
    "\n",
    "\n",
    "####    ANA PROGRAM    ####\n",
    "\n",
    "hesap_mak = [\"TOPLAMA\" , \"ÇIKARMA\" , \"ÇARPMA\" , \"BÖLME\" , \"ÇIKIŞ\"]\n",
    "\n",
    "for i in range(len(hesap_mak)) : \n",
    "    x = f\"{i+1}-\\t{hesap_mak[i]}\"\n",
    "    print(x)\n",
    "\n",
    "while True :\n",
    "    secim = input(\"İşlem:\")\n",
    "    if secim == \"5\" :\n",
    "        break\n",
    "    if secim not in \"12345\" : \n",
    "        print(\"Lütfen Menü dahilinde işlem seçiniz\")\n",
    "        continue\n",
    "    a = int(input(\"1. SAYI:\"))\n",
    "    b = int(input(\"2. SAYI:\"))\n",
    "\n",
    "    if secim == \"1\" : \n",
    "        print(f\"SONUÇ: {toplama(a,b)}\")\n",
    "    elif secim == \"2\" : \n",
    "        print(f\"SONUÇ: {cikarma(a,b)}\")\n",
    "    elif secim == \"3\" :\n",
    "        print(f\"SONUÇ: {carpma(a,b)}\")\n",
    "    elif secim ==\"4\" : \n",
    "        bolme(a,b)"
   ]
  },
  {
   "cell_type": "code",
   "execution_count": null,
   "id": "f236523f-0118-493b-9503-13aa1ab9f521",
   "metadata": {},
   "outputs": [],
   "source": [
    "#5_ Telefon Rehberi Uygulaması\n",
    "\n",
    "def kisi_ekle(isimler,tel_no,firmalar) : \n",
    "    isim = input(\"İSİM:\")\n",
    "    isimler.append(isim.upper())\n",
    "    numara = input(\"NUMARA:\")\n",
    "    tel_no.append(numara)\n",
    "    firma = input(\"FİRMA:\")\n",
    "    firmalar.append(firma.upper())\n",
    "    print(\"Kişi Kaydedildi!\")\n",
    "\n",
    "def arama_yap(isimler,tel_no) :\n",
    "    isim = input(\"TELEFON ET:\")\n",
    "    x = isimler.index(isim.upper())\n",
    "    print(f\"{tel_no[x]} aranıyor...\")\n",
    "    return tel_no[x]\n",
    "    \n",
    "\n",
    "def guncelle(isimler,tel_no,firmalar) : \n",
    "    for i in range(len(isimler)) : \n",
    "        print(f\"{i+1}-\\t{isimler[i]},{tel_no[i]},{firmalar[i]}\")\n",
    "\n",
    "    s = int(input(\"Kart güncelle:\"))\n",
    "    print(f\"{isimler[s-1]} - {tel_no[s-1]} - {firmalar[s-1]}\")\n",
    "    \n",
    "    isimler[s-1] = input(\"Yeni isim:\")\n",
    "    tel_no[s-1] =  input(\"Yeni no:\")\n",
    "    firmalar[s-1] = input(\"Yeni firma:\")\n",
    "\n",
    "\n",
    "def kisi_sil(isimler,tel_no,firma) : \n",
    "    for i in range(len(isimler)) : \n",
    "        print(f\"{i+1}-\\t{isimler[i]},{tel_no[i]},{firmalar[i]}\")\n",
    "\n",
    "    sil = int(input(\"Silinecek kart no:\"))\n",
    "    isimler.pop(sil-1)\n",
    "    tel_no.pop(sil-1)\n",
    "    firmalar.pop(sil-1)\n",
    "\n",
    "####     ANA PROGRAM    #####\n",
    "isimler = []\n",
    "tel_no = []\n",
    "firmalar = []\n",
    "menu = [\"KİŞİ EKLE\", \"ARAMA YAP\", \"KİŞİ GÜNCELLE\" , \"KİŞİ SİL\" , \"ÇIKIŞ\"]\n",
    "for i in range(len(menu)) : \n",
    "    print(f\"{i+1}-\\t{menu[i]}\")\n",
    "\n",
    "\n",
    "\n",
    "while True : \n",
    "    islem = input(\"İşlem:\")\n",
    "    if islem == \"5\" : \n",
    "        break\n",
    "    elif islem == \"1\" : \n",
    "        kisi_ekle(isimler,tel_no,firmalar)\n",
    "    elif islem == \"2\" : \n",
    "        arama_yap(isimler,tel_no)\n",
    "    elif islem == \"3\" : \n",
    "        guncelle(isimler,tel_no,firmalar)\n",
    "    elif islem == \"4\" : \n",
    "        kisi_sil(isimler,tel_no,firmalar)\n"
   ]
  }
 ],
 "metadata": {
  "kernelspec": {
   "display_name": "Python 3 (ipykernel)",
   "language": "python",
   "name": "python3"
  },
  "language_info": {
   "codemirror_mode": {
    "name": "ipython",
    "version": 3
   },
   "file_extension": ".py",
   "mimetype": "text/x-python",
   "name": "python",
   "nbconvert_exporter": "python",
   "pygments_lexer": "ipython3",
   "version": "3.12.4"
  }
 },
 "nbformat": 4,
 "nbformat_minor": 5
}
